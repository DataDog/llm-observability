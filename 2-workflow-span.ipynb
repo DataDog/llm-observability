{
 "cells": [
  {
   "cell_type": "markdown",
   "metadata": {},
   "source": [
    "### Initial Setup\n"
   ]
  },
  {
   "cell_type": "code",
   "execution_count": 1,
   "metadata": {
    "scrolled": true
   },
   "outputs": [
    {
     "name": "stdout",
     "output_type": "stream",
     "text": [
      "Requirement already satisfied: ddtrace==2.8.2 in /Users/alex.holachek/Desktop/llm-notebooks/myenv/lib/python3.9/site-packages (from -r requirements.txt (line 1)) (2.8.2)\n",
      "Requirement already satisfied: openai==1.23.2 in /Users/alex.holachek/Desktop/llm-notebooks/myenv/lib/python3.9/site-packages (from -r requirements.txt (line 2)) (1.23.2)\n",
      "Requirement already satisfied: requests==2.31.0 in /Users/alex.holachek/Desktop/llm-notebooks/myenv/lib/python3.9/site-packages (from -r requirements.txt (line 3)) (2.31.0)\n",
      "Requirement already satisfied: attrs>=20 in /Users/alex.holachek/Desktop/llm-notebooks/myenv/lib/python3.9/site-packages (from ddtrace==2.8.2->-r requirements.txt (line 1)) (23.2.0)\n",
      "Requirement already satisfied: cattrs in /Users/alex.holachek/Desktop/llm-notebooks/myenv/lib/python3.9/site-packages (from ddtrace==2.8.2->-r requirements.txt (line 1)) (23.2.3)\n",
      "Requirement already satisfied: ddsketch>=3.0.0 in /Users/alex.holachek/Desktop/llm-notebooks/myenv/lib/python3.9/site-packages (from ddtrace==2.8.2->-r requirements.txt (line 1)) (3.0.1)\n",
      "Requirement already satisfied: envier~=0.5 in /Users/alex.holachek/Desktop/llm-notebooks/myenv/lib/python3.9/site-packages (from ddtrace==2.8.2->-r requirements.txt (line 1)) (0.5.1)\n",
      "Requirement already satisfied: opentelemetry-api>=1 in /Users/alex.holachek/Desktop/llm-notebooks/myenv/lib/python3.9/site-packages (from ddtrace==2.8.2->-r requirements.txt (line 1)) (1.24.0)\n",
      "Requirement already satisfied: protobuf>=3 in /Users/alex.holachek/Desktop/llm-notebooks/myenv/lib/python3.9/site-packages (from ddtrace==2.8.2->-r requirements.txt (line 1)) (4.25.1)\n",
      "Requirement already satisfied: six>=1.12.0 in /Users/alex.holachek/Desktop/llm-notebooks/myenv/lib/python3.9/site-packages (from ddtrace==2.8.2->-r requirements.txt (line 1)) (1.16.0)\n",
      "Requirement already satisfied: typing-extensions in /Users/alex.holachek/Desktop/llm-notebooks/myenv/lib/python3.9/site-packages (from ddtrace==2.8.2->-r requirements.txt (line 1)) (4.9.0)\n",
      "Requirement already satisfied: xmltodict>=0.12 in /Users/alex.holachek/Desktop/llm-notebooks/myenv/lib/python3.9/site-packages (from ddtrace==2.8.2->-r requirements.txt (line 1)) (0.13.0)\n",
      "Requirement already satisfied: sqlparse>=0.2.2 in /Users/alex.holachek/Desktop/llm-notebooks/myenv/lib/python3.9/site-packages (from ddtrace==2.8.2->-r requirements.txt (line 1)) (0.5.0)\n",
      "Requirement already satisfied: bytecode>=0.13.0 in /Users/alex.holachek/Desktop/llm-notebooks/myenv/lib/python3.9/site-packages (from ddtrace==2.8.2->-r requirements.txt (line 1)) (0.15.1)\n",
      "Requirement already satisfied: anyio<5,>=3.5.0 in /Users/alex.holachek/Library/Python/3.9/lib/python/site-packages (from openai==1.23.2->-r requirements.txt (line 2)) (3.6.2)\n",
      "Requirement already satisfied: distro<2,>=1.7.0 in /Users/alex.holachek/Desktop/llm-notebooks/myenv/lib/python3.9/site-packages (from openai==1.23.2->-r requirements.txt (line 2)) (1.8.0)\n",
      "Requirement already satisfied: httpx<1,>=0.23.0 in /Users/alex.holachek/Desktop/llm-notebooks/myenv/lib/python3.9/site-packages (from openai==1.23.2->-r requirements.txt (line 2)) (0.25.2)\n",
      "Requirement already satisfied: pydantic<3,>=1.9.0 in /Users/alex.holachek/Desktop/llm-notebooks/myenv/lib/python3.9/site-packages (from openai==1.23.2->-r requirements.txt (line 2)) (2.5.2)\n",
      "Requirement already satisfied: sniffio in /Users/alex.holachek/Library/Python/3.9/lib/python/site-packages (from openai==1.23.2->-r requirements.txt (line 2)) (1.3.0)\n",
      "Requirement already satisfied: tqdm>4 in /Users/alex.holachek/Desktop/llm-notebooks/myenv/lib/python3.9/site-packages (from openai==1.23.2->-r requirements.txt (line 2)) (4.66.1)\n",
      "Requirement already satisfied: charset-normalizer<4,>=2 in /Users/alex.holachek/Desktop/llm-notebooks/myenv/lib/python3.9/site-packages (from requests==2.31.0->-r requirements.txt (line 3)) (3.3.2)\n",
      "Requirement already satisfied: idna<4,>=2.5 in /Users/alex.holachek/Library/Python/3.9/lib/python/site-packages (from requests==2.31.0->-r requirements.txt (line 3)) (3.4)\n",
      "Requirement already satisfied: urllib3<3,>=1.21.1 in /Users/alex.holachek/Desktop/llm-notebooks/myenv/lib/python3.9/site-packages (from requests==2.31.0->-r requirements.txt (line 3)) (2.1.0)\n",
      "Requirement already satisfied: certifi>=2017.4.17 in /Users/alex.holachek/Desktop/llm-notebooks/myenv/lib/python3.9/site-packages (from requests==2.31.0->-r requirements.txt (line 3)) (2023.11.17)\n",
      "Requirement already satisfied: httpcore==1.* in /Users/alex.holachek/Desktop/llm-notebooks/myenv/lib/python3.9/site-packages (from httpx<1,>=0.23.0->openai==1.23.2->-r requirements.txt (line 2)) (1.0.2)\n",
      "Requirement already satisfied: h11<0.15,>=0.13 in /Users/alex.holachek/Desktop/llm-notebooks/myenv/lib/python3.9/site-packages (from httpcore==1.*->httpx<1,>=0.23.0->openai==1.23.2->-r requirements.txt (line 2)) (0.14.0)\n",
      "Requirement already satisfied: deprecated>=1.2.6 in /Users/alex.holachek/Desktop/llm-notebooks/myenv/lib/python3.9/site-packages (from opentelemetry-api>=1->ddtrace==2.8.2->-r requirements.txt (line 1)) (1.2.14)\n",
      "Requirement already satisfied: importlib-metadata<=7.0,>=6.0 in /Users/alex.holachek/Desktop/llm-notebooks/myenv/lib/python3.9/site-packages (from opentelemetry-api>=1->ddtrace==2.8.2->-r requirements.txt (line 1)) (7.0.0)\n",
      "Requirement already satisfied: annotated-types>=0.4.0 in /Users/alex.holachek/Desktop/llm-notebooks/myenv/lib/python3.9/site-packages (from pydantic<3,>=1.9.0->openai==1.23.2->-r requirements.txt (line 2)) (0.6.0)\n",
      "Requirement already satisfied: pydantic-core==2.14.5 in /Users/alex.holachek/Desktop/llm-notebooks/myenv/lib/python3.9/site-packages (from pydantic<3,>=1.9.0->openai==1.23.2->-r requirements.txt (line 2)) (2.14.5)\n",
      "Requirement already satisfied: exceptiongroup>=1.1.1 in /Users/alex.holachek/Desktop/llm-notebooks/myenv/lib/python3.9/site-packages (from cattrs->ddtrace==2.8.2->-r requirements.txt (line 1)) (1.2.1)\n",
      "Requirement already satisfied: wrapt<2,>=1.10 in /Users/alex.holachek/Desktop/llm-notebooks/myenv/lib/python3.9/site-packages (from deprecated>=1.2.6->opentelemetry-api>=1->ddtrace==2.8.2->-r requirements.txt (line 1)) (1.16.0)\n",
      "Requirement already satisfied: zipp>=0.5 in /Users/alex.holachek/Library/Python/3.9/lib/python/site-packages (from importlib-metadata<=7.0,>=6.0->opentelemetry-api>=1->ddtrace==2.8.2->-r requirements.txt (line 1)) (3.11.0)\n",
      "\n",
      "\u001b[1m[\u001b[0m\u001b[34;49mnotice\u001b[0m\u001b[1;39;49m]\u001b[0m\u001b[39;49m A new release of pip is available: \u001b[0m\u001b[31;49m23.3.2\u001b[0m\u001b[39;49m -> \u001b[0m\u001b[32;49m24.0\u001b[0m\n",
      "\u001b[1m[\u001b[0m\u001b[34;49mnotice\u001b[0m\u001b[1;39;49m]\u001b[0m\u001b[39;49m To update, run: \u001b[0m\u001b[32;49mpip install --upgrade pip\u001b[0m\n",
      "Note: you may need to restart the kernel to use updated packages.\n"
     ]
    }
   ],
   "source": [
    "%pip install -r requirements.txt"
   ]
  },
  {
   "cell_type": "code",
   "execution_count": 2,
   "metadata": {},
   "outputs": [
    {
     "data": {
      "text/plain": [
       "True"
      ]
     },
     "execution_count": 2,
     "metadata": {},
     "output_type": "execute_result"
    }
   ],
   "source": [
    "# load required env vars for ddtrace\n",
    "from dotenv import load_dotenv\n",
    "\n",
    "load_dotenv()"
   ]
  },
  {
   "cell_type": "code",
   "execution_count": 3,
   "metadata": {},
   "outputs": [],
   "source": [
    "import ddtrace.auto\n",
    "\n",
    "ddtrace.patch_all()\n",
    "\n",
    "from ddtrace.llmobs import LLMObs\n",
    "\n",
    "LLMObs.enable()"
   ]
  },
  {
   "cell_type": "markdown",
   "metadata": {},
   "source": [
    "### Tracing a Workflow Span\n"
   ]
  },
  {
   "cell_type": "code",
   "execution_count": 28,
   "metadata": {},
   "outputs": [],
   "source": [
    "import requests\n",
    "from ddtrace.llmobs.decorators import tool\n",
    "\n",
    "\n",
    "# API docs: https://metmuseum.github.io/#search\n",
    "@tool(name=\"fetch_met_urls\")\n",
    "def fetch_met_urls(query):\n",
    "    base_url = \"https://collectionapi.metmuseum.org/public/collection/v1/search\"\n",
    "    params = {\n",
    "        \"q\": query,\n",
    "        \"hasImages\": \"true\",\n",
    "    }\n",
    "    response = requests.get(base_url, params=params)\n",
    "    try:\n",
    "        response = requests.get(base_url, params=params)\n",
    "        response.raise_for_status()\n",
    "        objects = response.json()[\"objectIDs\"]\n",
    "        return [\n",
    "            f\"https://www.metmuseum.org/art/collection/search/{objectId}\"\n",
    "            for objectId in objects[:5]\n",
    "        ]\n",
    "    except Exception as e:\n",
    "        print(f\"An error occurred: {e}\")\n",
    "        return None\n",
    "\n",
    "\n",
    "# Test it out here:\n",
    "# response = call_api(\"cat\")\n",
    "# response"
   ]
  },
  {
   "cell_type": "code",
   "execution_count": 29,
   "metadata": {},
   "outputs": [],
   "source": [
    "from openai import OpenAI\n",
    "import os\n",
    "import json\n",
    "from ddtrace.llmobs.decorators import workflow\n",
    "\n",
    "\n",
    "oai_client = OpenAI(api_key=os.environ.get(\"OPENAI_API_KEY\"))\n",
    "\n",
    "sys_prompt = \"\"\"\n",
    "\tYou are a service that provides information about the art in the collection of the Metropolitan Museum of Art.\n",
    "    You take a free text query and parse it into a format that can be sent to the Met API.\n",
    "    Parse a query out from the user's message in the following JSON format:\n",
    "\n",
    "    Prompt: I think I'd like to see some art from the 19th century. Ideally southern European or maybe Northern African.\n",
    "    Response: {\"query\": \"19th century southern European Northern African\"}\n",
    "\t\"\"\"\n",
    "\n",
    "\n",
    "def parse_query(message, prompt=sys_prompt):\n",
    "    messages = [\n",
    "        {\"role\": \"system\", \"content\": sys_prompt},\n",
    "        {\"role\": \"user\", \"content\": message},\n",
    "    ]\n",
    "    response = (\n",
    "        oai_client.chat.completions.create(\n",
    "            messages=messages,\n",
    "            model=\"gpt-3.5-turbo\",\n",
    "            response_format={\"type\": \"json_object\"},\n",
    "        )\n",
    "        .choices[0]\n",
    "        .message.content\n",
    "    )\n",
    "    query = json.loads(response)[\"query\"]\n",
    "    print(f\"Parsed query: {query}\")\n",
    "    return query\n",
    "\n",
    "\n",
    "@workflow(name=\"get_art\")\n",
    "def get_art(question, prompt=sys_prompt):\n",
    "    query = parse_query(question, prompt)\n",
    "    urls = fetch_met_urls(query)\n",
    "    return urls"
   ]
  },
  {
   "cell_type": "code",
   "execution_count": 30,
   "metadata": {},
   "outputs": [
    {
     "name": "stderr",
     "output_type": "stream",
     "text": [
      "Error submitting packet: [Errno 61] Connection refused, dropping the packet and closing the socket, 8 additional messages skipped\n"
     ]
    },
    {
     "name": "stdout",
     "output_type": "stream",
     "text": [
      "Parsed query: China cat dog\n"
     ]
    },
    {
     "data": {
      "text/plain": [
       "['https://www.metmuseum.org/art/collection/search/49698',\n",
       " 'https://www.metmuseum.org/art/collection/search/36221',\n",
       " 'https://www.metmuseum.org/art/collection/search/49470',\n",
       " 'https://www.metmuseum.org/art/collection/search/482595',\n",
       " 'https://www.metmuseum.org/art/collection/search/61658']"
      ]
     },
     "execution_count": 30,
     "metadata": {},
     "output_type": "execute_result"
    },
    {
     "name": "stderr",
     "output_type": "stream",
     "text": [
      "failed to send, dropping 1 traces to intake at http://localhost:8126/v0.5/traces after 3 retries, 2 additional messages skipped\n"
     ]
    }
   ],
   "source": [
    "get_art(\"I think I'd like to see some art from China that features a cat or doc\")"
   ]
  },
  {
   "cell_type": "code",
   "execution_count": null,
   "metadata": {},
   "outputs": [],
   "source": []
  }
 ],
 "metadata": {
  "kernelspec": {
   "display_name": "myenv",
   "language": "python",
   "name": "myenv"
  },
  "language_info": {
   "codemirror_mode": {
    "name": "ipython",
    "version": 3
   },
   "file_extension": ".py",
   "mimetype": "text/x-python",
   "name": "python",
   "nbconvert_exporter": "python",
   "pygments_lexer": "ipython3",
   "version": "3.9.6"
  }
 },
 "nbformat": 4,
 "nbformat_minor": 4
}
