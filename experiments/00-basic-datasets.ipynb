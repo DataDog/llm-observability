{
 "cells": [
  {
   "cell_type": "markdown",
   "metadata": {},
   "source": [
    "# Working with datasets 📊\n",
    "\n",
    "In this notebook, we'll cover how to create and work with datasets."
   ]
  },
  {
   "cell_type": "code",
   "execution_count": 32,
   "metadata": {},
   "outputs": [],
   "source": [
    "from dotenv import load_dotenv\n",
    "load_dotenv(override=True)\n",
    "\n",
    "from ddtrace.llmobs import Dataset"
   ]
  },
  {
   "cell_type": "markdown",
   "metadata": {},
   "source": [
    "## 1. Creating a Dataset\n",
    "In this example, we'll define a dataset programmatically by passing a list of dictionaries. Each dictionary represents a record containing an `input` and an optional `expected_output`. \n",
    "\n",
    "**Note**: Dataset names must be unique. If a dataset with the specified name already exists, the existing dataset will be returned instead of creating a new one.\n",
    "\n",
    "Alternatively, you can create or upload datasets directly within our product. We encourage you to explore this workflow after completing the notebook."
   ]
  },
  {
   "cell_type": "code",
   "execution_count": 50,
   "metadata": {},
   "outputs": [],
   "source": [
    "# Create a dataset by passing a list of dictionaries, input is required, expected_output is optional.\n",
    "dataset = Dataset(name=\"capitals-of-the-world\", \n",
    "                  data=[\n",
    "                      {\"input\": \"What is the capital of China?\", \"expected_output\": \"Beijing\"},\n",
    "                      {\"input\": \"Which city serves as both the capital of South Africa's executive branch and its administrative capital?\", \"expected_output\": \"Pretoria\"},\n",
    "                      {\"input\": \"What is the capital of Switzerland, many people incorrectly think it's Geneva or Zurich?\", \"expected_output\": \"Bern\"},\n",
    "                      {\"input\": \"Name the capital city that sits on both sides of the Danube River, formed by uniting Buda and Pest in 1873?\", \"expected_output\": \"Budapest\"},\n",
    "                      {\"input\": \"Which city became Kazakhstan's capital in 1997, was renamed to Nur-Sultan in 2019, and then back to its original name in 2022?\", \"expected_output\": \"Astana\"},\n",
    "                      {\"input\": \"What is the capital of Bhutan, located in a valley at an elevation of 7,874 feet?\", \"expected_output\": \"Thimphu\"},\n",
    "                      {\"input\": \"Which city became the capital of Myanmar in 2006, a planned city built from scratch in the jungle?\", \"expected_output\": \"Naypyidaw\"},\n",
    "                      {\"input\": \"What is the capital of Eritrea, known for its Italian colonial architecture and Art Deco buildings?\", \"expected_output\": \"Asmara\"},\n",
    "                      {\"input\": \"Name the capital of Turkmenistan, which holds the world record for the highest density of white marble buildings?\", \"expected_output\": \"Ashgabat\"},\n",
    "                      {\"input\": \"Which city is Kyrgyzstan's capital, situated at the foot of the Tian Shan mountains and named after a wooden churn used to make kumis?\", \"expected_output\": \"Bishkek\"},\n",
    "                      {\"input\": \"What is the capital of Brunei, officially known as Bandar Seri Begawan, which translates to 'City of the Noble Ruler'?\", \"expected_output\": \"Bandar Seri Begawan\"},\n",
    "                      {\"input\": \"Name the capital of Tajikistan, which was formerly known as Stalinabad from 1929 to 1961?\", \"expected_output\": \"Dushanbe\"},\n",
    "                      {\"input\": \"Which city serves as the capital of Eswatini (formerly Swaziland), whose name means 'place of burning' in siSwati?\", \"expected_output\": \"Mbabane\"}\n",
    "                  ])\n"
   ]
  },
  {
   "cell_type": "markdown",
   "metadata": {},
   "source": [
    "You can access records using index notation:"
   ]
  },
  {
   "cell_type": "code",
   "execution_count": 56,
   "metadata": {},
   "outputs": [
    {
     "name": "stdout",
     "output_type": "stream",
     "text": [
      "Record at index 0 -> {'input': 'What is the capital of China?', 'expected_output': 'Beijing'}\n",
      "Records between index 1 and 5 -> [{'input': \"Which city serves as both the capital of South Africa's executive branch and its administrative capital?\", 'expected_output': 'Pretoria'}, {'input': \"What is the capital of Switzerland, many people incorrectly think it's Geneva or Zurich?\", 'expected_output': 'Bern'}, {'input': 'Name the capital city that sits on both sides of the Danube River, formed by uniting Buda and Pest in 1873?', 'expected_output': 'Budapest'}, {'input': \"Which city became Kazakhstan's capital in 1997, was renamed to Nur-Sultan in 2019, and then back to its original name in 2022?\", 'expected_output': 'Astana'}]\n"
     ]
    }
   ],
   "source": [
    "print('Record at index 0 ->', dataset[0])\n",
    "print('Records between index 1 and 5 ->', dataset[1:5])\n",
    "# etc..."
   ]
  },
  {
   "cell_type": "markdown",
   "metadata": {},
   "source": [
    "To push the dataset to Datadog, use the `push()` method."
   ]
  },
  {
   "cell_type": "code",
   "execution_count": 47,
   "metadata": {},
   "outputs": [
    {
     "ename": "ValueError",
     "evalue": "Dataset 'capitals-of-the-world-alex' already exists. Dataset versioning will be supported in a future release. Please use a different name for your dataset.",
     "output_type": "error",
     "traceback": [
      "\u001b[0;31m---------------------------------------------------------------------------\u001b[0m",
      "\u001b[0;31mValueError\u001b[0m                                Traceback (most recent call last)",
      "Cell \u001b[0;32mIn[47], line 1\u001b[0m\n\u001b[0;32m----> 1\u001b[0m \u001b[43mdataset\u001b[49m\u001b[38;5;241;43m.\u001b[39;49m\u001b[43mpush\u001b[49m\u001b[43m(\u001b[49m\u001b[43m)\u001b[49m\n",
      "File \u001b[0;32m~/go/src/github.com/DataDog/llm-obs/llm-observability/experiments/venv/lib/python3.10/site-packages/ddtrace/llmobs/_experiments.py:253\u001b[0m, in \u001b[0;36mDataset.push\u001b[0;34m(self, chunk_size)\u001b[0m\n\u001b[1;32m    250\u001b[0m     \u001b[38;5;28mself\u001b[39m\u001b[38;5;241m.\u001b[39m_datadog_dataset_version \u001b[38;5;241m=\u001b[39m \u001b[38;5;241m0\u001b[39m\n\u001b[1;32m    251\u001b[0m \u001b[38;5;28;01melse\u001b[39;00m:\n\u001b[1;32m    252\u001b[0m     \u001b[38;5;66;03m# Dataset exists, raise error\u001b[39;00m\n\u001b[0;32m--> 253\u001b[0m     \u001b[38;5;28;01mraise\u001b[39;00m \u001b[38;5;167;01mValueError\u001b[39;00m(\n\u001b[1;32m    254\u001b[0m         \u001b[38;5;124mf\u001b[39m\u001b[38;5;124m\"\u001b[39m\u001b[38;5;124mDataset \u001b[39m\u001b[38;5;124m'\u001b[39m\u001b[38;5;132;01m{\u001b[39;00m\u001b[38;5;28mself\u001b[39m\u001b[38;5;241m.\u001b[39mname\u001b[38;5;132;01m}\u001b[39;00m\u001b[38;5;124m'\u001b[39m\u001b[38;5;124m already exists. Dataset versioning will be supported in a future release. \u001b[39m\u001b[38;5;124m\"\u001b[39m\n\u001b[1;32m    255\u001b[0m         \u001b[38;5;124m\"\u001b[39m\u001b[38;5;124mPlease use a different name for your dataset.\u001b[39m\u001b[38;5;124m\"\u001b[39m\n\u001b[1;32m    256\u001b[0m     )\n\u001b[1;32m    258\u001b[0m \u001b[38;5;66;03m# Split records into chunks and upload\u001b[39;00m\n\u001b[1;32m    259\u001b[0m total_records \u001b[38;5;241m=\u001b[39m \u001b[38;5;28mlen\u001b[39m(\u001b[38;5;28mself\u001b[39m\u001b[38;5;241m.\u001b[39m_data)\n",
      "\u001b[0;31mValueError\u001b[0m: Dataset 'capitals-of-the-world-alex' already exists. Dataset versioning will be supported in a future release. Please use a different name for your dataset."
     ]
    }
   ],
   "source": [
    "dataset.push()"
   ]
  },
  {
   "cell_type": "markdown",
   "metadata": {},
   "source": [
    "## 2. Displaying the Dataset as a DataFrame\n",
    "You can display the dataset as a pandas dataframe for easier visualization."
   ]
  },
  {
   "cell_type": "code",
   "execution_count": 57,
   "metadata": {},
   "outputs": [
    {
     "data": {
      "text/html": [
       "<div>\n",
       "<style scoped>\n",
       "    .dataframe tbody tr th:only-of-type {\n",
       "        vertical-align: middle;\n",
       "    }\n",
       "\n",
       "    .dataframe tbody tr th {\n",
       "        vertical-align: top;\n",
       "    }\n",
       "\n",
       "    .dataframe thead tr th {\n",
       "        text-align: left;\n",
       "    }\n",
       "</style>\n",
       "<table border=\"1\" class=\"dataframe\">\n",
       "  <thead>\n",
       "    <tr>\n",
       "      <th></th>\n",
       "      <th>expected_output</th>\n",
       "      <th>input</th>\n",
       "    </tr>\n",
       "    <tr>\n",
       "      <th></th>\n",
       "      <th></th>\n",
       "      <th></th>\n",
       "    </tr>\n",
       "  </thead>\n",
       "  <tbody>\n",
       "    <tr>\n",
       "      <th>0</th>\n",
       "      <td>Beijing</td>\n",
       "      <td>What is the capital of China?</td>\n",
       "    </tr>\n",
       "    <tr>\n",
       "      <th>1</th>\n",
       "      <td>Pretoria</td>\n",
       "      <td>Which city serves as both the capital of South...</td>\n",
       "    </tr>\n",
       "    <tr>\n",
       "      <th>2</th>\n",
       "      <td>Bern</td>\n",
       "      <td>What is the capital of Switzerland, many peopl...</td>\n",
       "    </tr>\n",
       "    <tr>\n",
       "      <th>3</th>\n",
       "      <td>Budapest</td>\n",
       "      <td>Name the capital city that sits on both sides ...</td>\n",
       "    </tr>\n",
       "    <tr>\n",
       "      <th>4</th>\n",
       "      <td>Astana</td>\n",
       "      <td>Which city became Kazakhstan's capital in 1997...</td>\n",
       "    </tr>\n",
       "    <tr>\n",
       "      <th>5</th>\n",
       "      <td>Thimphu</td>\n",
       "      <td>What is the capital of Bhutan, located in a va...</td>\n",
       "    </tr>\n",
       "    <tr>\n",
       "      <th>6</th>\n",
       "      <td>Naypyidaw</td>\n",
       "      <td>Which city became the capital of Myanmar in 20...</td>\n",
       "    </tr>\n",
       "    <tr>\n",
       "      <th>7</th>\n",
       "      <td>Asmara</td>\n",
       "      <td>What is the capital of Eritrea, known for its ...</td>\n",
       "    </tr>\n",
       "    <tr>\n",
       "      <th>8</th>\n",
       "      <td>Ashgabat</td>\n",
       "      <td>Name the capital of Turkmenistan, which holds ...</td>\n",
       "    </tr>\n",
       "    <tr>\n",
       "      <th>9</th>\n",
       "      <td>Bishkek</td>\n",
       "      <td>Which city is Kyrgyzstan's capital, situated a...</td>\n",
       "    </tr>\n",
       "    <tr>\n",
       "      <th>10</th>\n",
       "      <td>Bandar Seri Begawan</td>\n",
       "      <td>What is the capital of Brunei, officially know...</td>\n",
       "    </tr>\n",
       "    <tr>\n",
       "      <th>11</th>\n",
       "      <td>Dushanbe</td>\n",
       "      <td>Name the capital of Tajikistan, which was form...</td>\n",
       "    </tr>\n",
       "    <tr>\n",
       "      <th>12</th>\n",
       "      <td>Mbabane</td>\n",
       "      <td>Which city serves as the capital of Eswatini (...</td>\n",
       "    </tr>\n",
       "  </tbody>\n",
       "</table>\n",
       "</div>"
      ],
      "text/plain": [
       "        expected_output                                              input\n",
       "                                                                          \n",
       "0               Beijing                      What is the capital of China?\n",
       "1              Pretoria  Which city serves as both the capital of South...\n",
       "2                  Bern  What is the capital of Switzerland, many peopl...\n",
       "3              Budapest  Name the capital city that sits on both sides ...\n",
       "4                Astana  Which city became Kazakhstan's capital in 1997...\n",
       "5               Thimphu  What is the capital of Bhutan, located in a va...\n",
       "6             Naypyidaw  Which city became the capital of Myanmar in 20...\n",
       "7                Asmara  What is the capital of Eritrea, known for its ...\n",
       "8              Ashgabat  Name the capital of Turkmenistan, which holds ...\n",
       "9               Bishkek  Which city is Kyrgyzstan's capital, situated a...\n",
       "10  Bandar Seri Begawan  What is the capital of Brunei, officially know...\n",
       "11             Dushanbe  Name the capital of Tajikistan, which was form...\n",
       "12              Mbabane  Which city serves as the capital of Eswatini (..."
      ]
     },
     "execution_count": 57,
     "metadata": {},
     "output_type": "execute_result"
    }
   ],
   "source": [
    "# Display the dataset as a pandas dataframe\n",
    "dataset.as_dataframe()"
   ]
  },
  {
   "cell_type": "markdown",
   "metadata": {},
   "source": [
    "# 3. Pulling an Existing Dataset\n",
    "To pull the dataset from Datadog, use the `pull()` method."
   ]
  },
  {
   "cell_type": "code",
   "execution_count": 49,
   "metadata": {},
   "outputs": [
    {
     "data": {
      "text/html": [
       "<div>\n",
       "<style scoped>\n",
       "    .dataframe tbody tr th:only-of-type {\n",
       "        vertical-align: middle;\n",
       "    }\n",
       "\n",
       "    .dataframe tbody tr th {\n",
       "        vertical-align: top;\n",
       "    }\n",
       "\n",
       "    .dataframe thead tr th {\n",
       "        text-align: left;\n",
       "    }\n",
       "</style>\n",
       "<table border=\"1\" class=\"dataframe\">\n",
       "  <thead>\n",
       "    <tr>\n",
       "      <th></th>\n",
       "      <th>expected_output</th>\n",
       "      <th>input</th>\n",
       "      <th>metadata</th>\n",
       "    </tr>\n",
       "    <tr>\n",
       "      <th></th>\n",
       "      <th></th>\n",
       "      <th></th>\n",
       "      <th>record_id</th>\n",
       "    </tr>\n",
       "  </thead>\n",
       "  <tbody>\n",
       "    <tr>\n",
       "      <th>0</th>\n",
       "      <td>Astana</td>\n",
       "      <td>Which city became Kazakhstan's capital in 1997...</td>\n",
       "      <td>cf44f999-2299-45e6-b6fb-53eb12cf2288</td>\n",
       "    </tr>\n",
       "    <tr>\n",
       "      <th>1</th>\n",
       "      <td>Budapest</td>\n",
       "      <td>Name the capital city that sits on both sides ...</td>\n",
       "      <td>6c07d3d2-8c7a-46c7-af47-bd2520d3cbac</td>\n",
       "    </tr>\n",
       "    <tr>\n",
       "      <th>2</th>\n",
       "      <td>Dushanbe</td>\n",
       "      <td>Name the capital of Tajikistan, which was form...</td>\n",
       "      <td>84647598-1bc2-43f8-a67c-0cbfd959f9e7</td>\n",
       "    </tr>\n",
       "    <tr>\n",
       "      <th>3</th>\n",
       "      <td>Bern</td>\n",
       "      <td>What is the capital of Switzerland, many peopl...</td>\n",
       "      <td>768dec53-3f94-4bda-bbc3-4353793b7440</td>\n",
       "    </tr>\n",
       "    <tr>\n",
       "      <th>4</th>\n",
       "      <td>Beijing</td>\n",
       "      <td>What is the capital of China?</td>\n",
       "      <td>9e93b8c0-dc06-4120-a6b5-ad874d769a58</td>\n",
       "    </tr>\n",
       "    <tr>\n",
       "      <th>5</th>\n",
       "      <td>Pretoria</td>\n",
       "      <td>Which city serves as both the capital of South...</td>\n",
       "      <td>a522f5c5-bc60-496f-87c0-096fabd640ec</td>\n",
       "    </tr>\n",
       "    <tr>\n",
       "      <th>6</th>\n",
       "      <td>Bandar Seri Begawan</td>\n",
       "      <td>What is the capital of Brunei, officially know...</td>\n",
       "      <td>55673d1f-52aa-4370-ad47-7d1df8ac0ac5</td>\n",
       "    </tr>\n",
       "    <tr>\n",
       "      <th>7</th>\n",
       "      <td>Naypyidaw</td>\n",
       "      <td>Which city became the capital of Myanmar in 20...</td>\n",
       "      <td>08c3aafe-a416-4f78-8880-f2b91d6efc7f</td>\n",
       "    </tr>\n",
       "    <tr>\n",
       "      <th>8</th>\n",
       "      <td>Thimphu</td>\n",
       "      <td>What is the capital of Bhutan, located in a va...</td>\n",
       "      <td>074febc5-ad24-46b2-8445-bf59e8aac714</td>\n",
       "    </tr>\n",
       "    <tr>\n",
       "      <th>9</th>\n",
       "      <td>Ashgabat</td>\n",
       "      <td>Name the capital of Turkmenistan, which holds ...</td>\n",
       "      <td>7c94e126-c997-4084-9058-bc0b2cef316c</td>\n",
       "    </tr>\n",
       "    <tr>\n",
       "      <th>10</th>\n",
       "      <td>Bishkek</td>\n",
       "      <td>Which city is Kyrgyzstan's capital, situated a...</td>\n",
       "      <td>a5be96f0-df47-488d-be29-9225a00d8a04</td>\n",
       "    </tr>\n",
       "    <tr>\n",
       "      <th>11</th>\n",
       "      <td>Mbabane</td>\n",
       "      <td>Which city serves as the capital of Eswatini (...</td>\n",
       "      <td>a4fa238a-a24e-4358-8167-1a0c8e2bce54</td>\n",
       "    </tr>\n",
       "    <tr>\n",
       "      <th>12</th>\n",
       "      <td>Asmara</td>\n",
       "      <td>What is the capital of Eritrea, known for its ...</td>\n",
       "      <td>13c8eda7-24ff-488f-90ce-df0dc6994ebc</td>\n",
       "    </tr>\n",
       "  </tbody>\n",
       "</table>\n",
       "</div>"
      ],
      "text/plain": [
       "        expected_output                                              input  \\\n",
       "                                                                             \n",
       "0                Astana  Which city became Kazakhstan's capital in 1997...   \n",
       "1              Budapest  Name the capital city that sits on both sides ...   \n",
       "2              Dushanbe  Name the capital of Tajikistan, which was form...   \n",
       "3                  Bern  What is the capital of Switzerland, many peopl...   \n",
       "4               Beijing                      What is the capital of China?   \n",
       "5              Pretoria  Which city serves as both the capital of South...   \n",
       "6   Bandar Seri Begawan  What is the capital of Brunei, officially know...   \n",
       "7             Naypyidaw  Which city became the capital of Myanmar in 20...   \n",
       "8               Thimphu  What is the capital of Bhutan, located in a va...   \n",
       "9              Ashgabat  Name the capital of Turkmenistan, which holds ...   \n",
       "10              Bishkek  Which city is Kyrgyzstan's capital, situated a...   \n",
       "11              Mbabane  Which city serves as the capital of Eswatini (...   \n",
       "12               Asmara  What is the capital of Eritrea, known for its ...   \n",
       "\n",
       "                                metadata  \n",
       "                               record_id  \n",
       "0   cf44f999-2299-45e6-b6fb-53eb12cf2288  \n",
       "1   6c07d3d2-8c7a-46c7-af47-bd2520d3cbac  \n",
       "2   84647598-1bc2-43f8-a67c-0cbfd959f9e7  \n",
       "3   768dec53-3f94-4bda-bbc3-4353793b7440  \n",
       "4   9e93b8c0-dc06-4120-a6b5-ad874d769a58  \n",
       "5   a522f5c5-bc60-496f-87c0-096fabd640ec  \n",
       "6   55673d1f-52aa-4370-ad47-7d1df8ac0ac5  \n",
       "7   08c3aafe-a416-4f78-8880-f2b91d6efc7f  \n",
       "8   074febc5-ad24-46b2-8445-bf59e8aac714  \n",
       "9   7c94e126-c997-4084-9058-bc0b2cef316c  \n",
       "10  a5be96f0-df47-488d-be29-9225a00d8a04  \n",
       "11  a4fa238a-a24e-4358-8167-1a0c8e2bce54  \n",
       "12  13c8eda7-24ff-488f-90ce-df0dc6994ebc  "
      ]
     },
     "execution_count": 49,
     "metadata": {},
     "output_type": "execute_result"
    }
   ],
   "source": [
    "dataset = Dataset.pull(name=\"capitals-of-the-world\")\n",
    "dataset.as_dataframe()"
   ]
  }
 ],
 "metadata": {
  "kernelspec": {
   "display_name": "venv",
   "language": "python",
   "name": "python3"
  },
  "language_info": {
   "codemirror_mode": {
    "name": "ipython",
    "version": 3
   },
   "file_extension": ".py",
   "mimetype": "text/x-python",
   "name": "python",
   "nbconvert_exporter": "python",
   "pygments_lexer": "ipython3",
   "version": "3.10.16"
  }
 },
 "nbformat": 4,
 "nbformat_minor": 2
}
