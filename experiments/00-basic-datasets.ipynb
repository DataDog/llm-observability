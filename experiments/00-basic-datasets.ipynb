{
 "cells": [
  {
   "cell_type": "markdown",
   "metadata": {},
   "source": [
    "# Working with datasets 📊\n",
    "\n",
    "In this notebook, we'll cover how to create and work with datasets."
   ]
  },
  {
   "cell_type": "code",
   "execution_count": 64,
   "metadata": {},
   "outputs": [],
   "source": [
    "from dotenv import load_dotenv\n",
    "# Load environment variables from a .env file, overriding existing ones.\n",
    "# Disable override if your environment is defined outside the virtualenv.\n",
    "load_dotenv(override=True)\n",
    "\n",
    "from ddtrace.llmobs import Dataset"
   ]
  },
  {
   "cell_type": "markdown",
   "metadata": {},
   "source": [
    "## 1. Creating a Dataset\n",
    "In this example, we'll define a dataset programmatically by passing a list of dictionaries. Each dictionary represents a record containing an `input` and an optional `expected_output`. \n",
    "\n",
    "**Note**: Dataset names must be unique. If a dataset with the specified name already exists, the existing dataset will be returned instead of creating a new one.\n",
    "\n",
    "Alternatively, you can create or upload datasets directly within our product. We encourage you to explore this workflow after completing the notebook."
   ]
  },
  {
   "cell_type": "code",
   "execution_count": 65,
   "metadata": {},
   "outputs": [],
   "source": [
    "dataset = Dataset(name=\"capitals-of-the-world-alextesting\", \n",
    "                  data=[\n",
    "                      {\"input\": \"What is the capital of China?\", \"expected_output\": \"Beijing\"},\n",
    "                      {\"input\": \"Which city serves as both the capital of South Africa's executive branch and its administrative capital?\", \"expected_output\": \"Pretoria\"},\n",
    "                      {\"input\": \"What is the capital of Switzerland, many people incorrectly think it's Geneva or Zurich?\", \"expected_output\": \"Bern\"},\n",
    "                      {\"input\": \"Name the capital city that sits on both sides of the Danube River, formed by uniting Buda and Pest in 1873?\", \"expected_output\": \"Budapest\"},\n",
    "                      {\"input\": \"Which city became Kazakhstan's capital in 1997, was renamed to Nur-Sultan in 2019, and then back to its original name in 2022?\", \"expected_output\": \"Astana\"},\n",
    "                      {\"input\": \"What is the capital of Bhutan, located in a valley at an elevation of 7,874 feet?\", \"expected_output\": \"Thimphu\"},\n",
    "                      {\"input\": \"Which city became the capital of Myanmar in 2006, a planned city built from scratch in the jungle?\", \"expected_output\": \"Naypyidaw\"},\n",
    "                      {\"input\": \"What is the capital of Eritrea, known for its Italian colonial architecture and Art Deco buildings?\", \"expected_output\": \"Asmara\"},\n",
    "                      {\"input\": \"Name the capital of Turkmenistan, which holds the world record for the highest density of white marble buildings?\", \"expected_output\": \"Ashgabat\"},\n",
    "                      {\"input\": \"Which city is Kyrgyzstan's capital, situated at the foot of the Tian Shan mountains and named after a wooden churn used to make kumis?\", \"expected_output\": \"Bishkek\"},\n",
    "                      {\"input\": \"What is the capital of Brunei, officially known as Bandar Seri Begawan, which translates to 'City of the Noble Ruler'?\", \"expected_output\": \"Bandar Seri Begawan\"},\n",
    "                      {\"input\": \"Name the capital of Tajikistan, which was formerly known as Stalinabad from 1929 to 1961?\", \"expected_output\": \"Dushanbe\"},\n",
    "                      {\"input\": \"Which city serves as the capital of Eswatini (formerly Swaziland), whose name means 'place of burning' in siSwati?\", \"expected_output\": \"Mbabane\"}\n",
    "                  ])\n"
   ]
  },
  {
   "cell_type": "markdown",
   "metadata": {},
   "source": [
    "You can access records using index notation:"
   ]
  },
  {
   "cell_type": "code",
   "execution_count": null,
   "metadata": {},
   "outputs": [],
   "source": [
    "print('Record at index 0 ->', dataset[0])\n",
    "print('Records between index 1 and 5 ->', dataset[1:5])\n",
    "# etc..."
   ]
  },
  {
   "cell_type": "markdown",
   "metadata": {},
   "source": [
    "To push the dataset to Datadog, use the `push()` method."
   ]
  },
  {
   "cell_type": "code",
   "execution_count": null,
   "metadata": {},
   "outputs": [],
   "source": [
    "dataset.push()"
   ]
  },
  {
   "cell_type": "markdown",
   "metadata": {},
   "source": [
    "## 2. Displaying the Dataset as a DataFrame\n",
    "You can display the dataset as a pandas dataframe for easier visualization."
   ]
  },
  {
   "cell_type": "code",
   "execution_count": null,
   "metadata": {},
   "outputs": [],
   "source": [
    "# Display the dataset as a pandas dataframe\n",
    "dataset.as_dataframe()"
   ]
  },
  {
   "cell_type": "markdown",
   "metadata": {},
   "source": [
    "# 3. Pulling an Existing Dataset\n",
    "To pull the dataset from Datadog, use the `pull()` method."
   ]
  },
  {
   "cell_type": "code",
   "execution_count": null,
   "metadata": {},
   "outputs": [],
   "source": [
    "dataset = Dataset.pull(name=\"capitals-of-the-world\")\n",
    "dataset.as_dataframe()"
   ]
  }
 ],
 "metadata": {
  "kernelspec": {
   "display_name": "venv",
   "language": "python",
   "name": "python3"
  },
  "language_info": {
   "codemirror_mode": {
    "name": "ipython",
    "version": 3
   },
   "file_extension": ".py",
   "mimetype": "text/x-python",
   "name": "python",
   "nbconvert_exporter": "python",
   "pygments_lexer": "ipython3",
   "version": "3.10.16"
  }
 },
 "nbformat": 4,
 "nbformat_minor": 2
}
