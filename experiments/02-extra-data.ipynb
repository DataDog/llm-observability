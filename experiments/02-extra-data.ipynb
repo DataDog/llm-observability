{
 "cells": [
  {
   "cell_type": "markdown",
   "metadata": {},
   "source": [
    "# Using Additional Input Data 📥\n",
    "\n",
    "In some cases, a single input value isn't enough—you may need to process multiple values for a task.\n",
    "\n",
    "For this example, we'll use the [Taskmaster dataset](https://huggingface.co/datasets/taskmaster) which contains comments and topics. Our goal is to evaluate whether a given comment is relevant to the list of topics.\n",
    "\n",
    "Additionally, your model's output may need to include multiple values. In this case, instead of just returning a label (e.g., \"in-topic\" or \"off-topic\"), we might also want to return a confidence score."
   ]
  },
  {
   "cell_type": "code",
   "execution_count": 1,
   "metadata": {},
   "outputs": [],
   "source": [
    "import os\n",
    "import math\n",
    "\n",
    "from openai import OpenAI\n",
    "from dotenv import load_dotenv\n",
    "\n",
    "# Load environment variables from a .env file, overriding existing ones.\n",
    "# Disable override if your environment is defined outside the virtualenv.\n",
    "load_dotenv(override=True)\n",
    "\n",
    "from pydantic import BaseModel\n",
    "\n",
    "from ddtrace.llmobs import Dataset, Experiment, task, evaluator\n",
    "\n",
    "client = OpenAI(api_key=os.getenv(\"OPENAI_API_KEY\"))"
   ]
  },
  {
   "cell_type": "code",
   "execution_count": 15,
   "metadata": {},
   "outputs": [],
   "source": [
    "# Specify the columns that contain the input and expected output.\n",
    "dataset = Dataset.from_csv(\"./data/taskmaster.csv\", name=\"taskmaster-mini-2\", input_columns=[\"prompt\", \"topics\"], expected_output_columns=[\"labels\"])"
   ]
  },
  {
   "cell_type": "code",
   "execution_count": null,
   "metadata": {},
   "outputs": [],
   "source": [
    "# If the label is False, then the comment is in topic with the list of topics. Otherwise, it is not.\n",
    "dataset.as_dataframe()"
   ]
  },
  {
   "cell_type": "code",
   "execution_count": null,
   "metadata": {},
   "outputs": [],
   "source": [
    "# dataset.push()\n",
    "dataset = Dataset(name='taskmaster-mini-2')"
   ]
  },
  {
   "cell_type": "code",
   "execution_count": 27,
   "metadata": {},
   "outputs": [],
   "source": [
    "# We define a task that uses both the prompt and the topics from the input to determine if the comment is in topic with the list of topics.\n",
    "@task\n",
    "def topic_relevance(input, config):\n",
    "    output = client.chat.completions.create(\n",
    "        model=f\"{config['model']}\",\n",
    "        messages=[\n",
    "            {\"role\": \"system\", \"content\": f\"You are a {config['personality']} assistant that can detect if a comment is in topic with a given list of topics. Return YES if it is, otherwise return NO. Nothing else.\"},\n",
    "            {\"role\": \"user\", \"content\": f\"Comment: {input['prompt']}\\n\\nTopics: {input['topics']}\"}\n",
    "        ],\n",
    "        logprobs=True,\n",
    "        top_logprobs=10,\n",
    "        temperature=config[\"temperature\"]\n",
    "    )\n",
    "\n",
    "    response = output.choices[0].message.content == \"YES\"\n",
    "    \n",
    "    # Get logprobs for YES and NO responses\n",
    "    logprobs = output.choices[0].logprobs.content[0].top_logprobs\n",
    "    yes_prob = next((lp.logprob for lp in logprobs if lp.token == \"YES\"), float(\"-inf\"))\n",
    "    no_prob = next((lp.logprob for lp in logprobs if lp.token == \"NO\"), float(\"-inf\"))\n",
    "    \n",
    "    # Convert log probability to probability for the chosen response\n",
    "    confidence = math.exp(yes_prob if response else no_prob)\n",
    "    \n",
    "    return {\"response\": str(not response), \"confidence\": confidence}\n",
    "\n",
    "# We define an evaluator that checks if the output is the same as the expected output.\n",
    "@evaluator\n",
    "def exact_match(input, output, expected_output):\n",
    "    return expected_output == output[\"response\"]\n",
    "\n",
    "# We now use a confidence score evaluator to check if the confidence score is greater than 0.8 and the output is not the expected output.\n",
    "@evaluator\n",
    "def false_confidence(input, output, expected_output):\n",
    "    return output[\"confidence\"] > 0.8 and expected_output != output[\"response\"]\n",
    "\n",
    "\n",
    "experiment = Experiment(\n",
    "    name=\"taskmaster-experiment\",\n",
    "    dataset=dataset,\n",
    "    task=topic_relevance,\n",
    "    evaluators=[exact_match, false_confidence],\n",
    "    config={\"model\": \"gpt-4o-mini\", \"temperature\": 0.3, \"personality\": \"helpful\"},\n",
    ")"
   ]
  },
  {
   "cell_type": "code",
   "execution_count": null,
   "metadata": {},
   "outputs": [],
   "source": [
    "# Let's test just on one sample\n",
    "input = dataset[0][\"input\"]\n",
    "output = topic_relevance(input, {\"model\": \"gpt-4o-mini\", \"temperature\": 0.3, \"personality\": \"helpful\"})\n",
    "print(output)"
   ]
  },
  {
   "cell_type": "code",
   "execution_count": null,
   "metadata": {},
   "outputs": [],
   "source": [
    "results = experiment.run()"
   ]
  },
  {
   "cell_type": "code",
   "execution_count": null,
   "metadata": {},
   "outputs": [],
   "source": [
    "results.as_dataframe()"
   ]
  },
  {
   "cell_type": "markdown",
   "metadata": {},
   "source": [
    "## Running More Experiments 🚀\n",
    "\n",
    "In this round of experiments, we’ll modify the prompt to see how it impacts model performance. Unlike previous experiments, we won't use the config parameter."
   ]
  },
  {
   "cell_type": "code",
   "execution_count": 11,
   "metadata": {},
   "outputs": [],
   "source": [
    "# Here we'll use a CoT prompt to see if the model can handle it. It uses structured output to return the answer.\n",
    "\n",
    "class TopicRelevanceCoT(BaseModel):\n",
    "    reasoning_why_in_topic: str\n",
    "    reasoning_why_not_in_topic: str\n",
    "    deliberation: str\n",
    "    in_topic: bool\n",
    "    confidence: float\n",
    "\n",
    "@task\n",
    "def topic_relevance_CoT(input):\n",
    "    output = client.beta.chat.completions.parse(\n",
    "        model=\"gpt-4o-mini\",\n",
    "        messages=[\n",
    "            {\"role\": \"system\", \"content\": \"\"\"\n",
    "            You are a helpful assistant that can detect if a comment is in topic with a given list of topics.\n",
    "             \n",
    "            Reason carefully and answer correctly only.\n",
    "\n",
    "            You must return a JSON with the following fields in that order:\n",
    "            - reasoning_why_in_topic: a string with the reasoning of why the comment is in topic with the list of topics.\n",
    "            - reasoning_why_not_in_topic: a string with the reasoning of why the comment is not in topic with the list of topics.\n",
    "            - deliberation: a string with an argument of why the comment is in topic or not in topic with the list of topics.\n",
    "            - in_topic: a boolean that indicates if the comment is in topic with the list of topics.\n",
    "            - confidence: a number between 0 and 1 that indicates the confidence of the model in its answer.\n",
    "            \"\"\",\n",
    "            },\n",
    "            {\"role\": \"user\", \"content\": f\"Comment: {input['prompt']}\\n\\nTopics: {input['topics']}\"}\n",
    "        ],\n",
    "        response_format=TopicRelevanceCoT\n",
    "    )\n",
    "\n",
    "    in_topic = output.choices[0].message.parsed.in_topic\n",
    "    confidence = output.choices[0].message.parsed.confidence\n",
    "    reasoning_why_in_topic = output.choices[0].message.parsed.reasoning_why_in_topic\n",
    "    reasoning_why_not_in_topic = output.choices[0].message.parsed.reasoning_why_not_in_topic\n",
    "    deliberation = output.choices[0].message.parsed.deliberation\n",
    "\n",
    "    # Here let's even return the reasoning of why the comment is in topic or not in topic to see if the model is reasoning correctly.\n",
    "\n",
    "    return {\"response\": str(not in_topic), \"confidence\": confidence, \"reasoning_why_in_topic\": reasoning_why_in_topic, \"reasoning_why_not_in_topic\": reasoning_why_not_in_topic, \"deliberation\": deliberation}\n"
   ]
  },
  {
   "cell_type": "markdown",
   "metadata": {},
   "source": [
    "To test the task, let's run it on one sample.\n",
    "\n"
   ]
  },
  {
   "cell_type": "code",
   "execution_count": null,
   "metadata": {},
   "outputs": [],
   "source": [
    "input = dataset[0][\"input\"]\n",
    "output = topic_relevance_CoT(input)\n",
    "print(output)"
   ]
  },
  {
   "cell_type": "markdown",
   "metadata": {},
   "source": [
    "Great! Now let's run the experiment."
   ]
  },
  {
   "cell_type": "code",
   "execution_count": 16,
   "metadata": {},
   "outputs": [],
   "source": [
    "experiment = Experiment(name=\"taskmaster-experiment-cot\", dataset=dataset, task=topic_relevance_CoT, evaluators=[exact_match, false_confidence])"
   ]
  },
  {
   "cell_type": "code",
   "execution_count": null,
   "metadata": {},
   "outputs": [],
   "source": [
    "results = experiment.run()\n",
    "results.as_dataframe()"
   ]
  },
  {
   "cell_type": "markdown",
   "metadata": {},
   "source": [
    "If you check Datadog's LLM Observability's UI, you'll be able to see the improvements reflected in the results! "
   ]
  }
 ],
 "metadata": {
  "kernelspec": {
   "display_name": "venv",
   "language": "python",
   "name": "python3"
  },
  "language_info": {
   "codemirror_mode": {
    "name": "ipython",
    "version": 3
   },
   "file_extension": ".py",
   "mimetype": "text/x-python",
   "name": "python",
   "nbconvert_exporter": "python",
   "pygments_lexer": "ipython3",
   "version": "3.10.16"
  }
 },
 "nbformat": 4,
 "nbformat_minor": 2
}
