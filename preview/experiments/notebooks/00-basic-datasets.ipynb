{
 "cells": [
  {
   "cell_type": "markdown",
   "metadata": {},
   "source": [
    "# Working with datasets 📊\n",
    "\n",
    "In this notebook, we'll cover how to create and work with datasets."
   ]
  },
  {
   "cell_type": "markdown",
   "metadata": {},
   "source": [
    "## 0. Set up\n",
    "\n",
    "Before anything else, we need to call `LLMObs.enable()` to initialize the LLM Obs library and track a project (required)."
   ]
  },
  {
   "cell_type": "code",
   "metadata": {},
   "source": [
    "import os\n",
    "\n",
    "from dotenv import load_dotenv\n",
    "# Load environment variables from the .env file.\n",
    "load_dotenv(override=True)\n",
    "\n",
    "from ddtrace.llmobs import LLMObs\n",
    "\n",
    "LLMObs.enable(api_key=os.getenv(\"DD_API_KEY\"), app_key=os.getenv(\"DD_APPLICATION_KEY\"),  project_name=\"Onboarding\")"
   ],
   "outputs": [],
   "execution_count": null
  },
  {
   "cell_type": "markdown",
   "metadata": {},
   "source": [
    "## 1. Creating a Dataset\n",
    "In this example, we'll define a dataset programmatically by creating a list of `records`, each one contains an `input_data` and an optional `expected_output`.\n",
    "\n",
    "Alternatively, you can create or upload datasets directly within our product. We encourage you to explore this workflow after completing the notebook."
   ]
  },
  {
   "metadata": {},
   "cell_type": "code",
   "source": [
    "dataset = LLMObs.create_dataset(\n",
    "    name=\"capitals-of-the-world\",\n",
    "    description=\"a list of inputs and outputs describing capitals of the world\",\n",
    "    records=[\n",
    "        {\n",
    "            \"input_data\": {\"question\": \"What is the capital of China?\"},\n",
    "            \"expected_output\": \"Beijing\",\n",
    "            \"metadata\": {\"difficulty\": \"easy\"}\n",
    "        },\n",
    "        {\n",
    "            \"input_data\": {\"question\": \"Which city serves as the capital of South Africa?\"},\n",
    "            \"expected_output\": \"Pretoria\",\n",
    "            \"metadata\": {\"difficulty\": \"medium\"}\n",
    "        }\n",
    "    ]\n",
    ")"
   ],
   "outputs": [],
   "execution_count": null
  },
  {
   "metadata": {},
   "cell_type": "markdown",
   "source": [
    "`create_dataset` will automatically push the records to Datadog, you can still manipulate the dataset's records locally. Dataset names *must* be unique when datasets are being created.\n",
    "\n",
    "You can use the `url` property to see the dataset in Datadog (it may take a few seconds to be accessible)."
   ]
  },
  {
   "metadata": {},
   "cell_type": "code",
   "source": "dataset.url",
   "outputs": [],
   "execution_count": null
  },
  {
   "cell_type": "markdown",
   "metadata": {},
   "source": [
    "## 2. Displaying the Dataset as a DataFrame\n",
    "You can display the dataset as a pandas dataframe for easier visualization."
   ]
  },
  {
   "cell_type": "code",
   "metadata": {},
   "source": [
    "# Display the dataset as a pandas dataframe\n",
    "dataset.as_dataframe()"
   ],
   "outputs": [],
   "execution_count": null
  },
  {
   "metadata": {},
   "cell_type": "markdown",
   "source": [
    "# 3. Modifying a Dataset\n",
    "You can modify the dataset in the Datadog UI, or locally using methods such as `append()`, `update()`, and `delete()`. Once your modifications are complete, you can call `push()` to update the remote state of the dataset."
   ]
  },
  {
   "metadata": {},
   "cell_type": "markdown",
   "source": "You can access dataset entries using index notation:"
  },
  {
   "metadata": {},
   "cell_type": "code",
   "source": [
    "print('Record at index 0 ->', dataset[0])\n",
    "print('Records between index 1 and 5 ->', dataset[1:5])"
   ],
   "outputs": [],
   "execution_count": null
  },
  {
   "metadata": {},
   "cell_type": "markdown",
   "source": "Appending a record to the dataset:"
  },
  {
   "metadata": {},
   "cell_type": "code",
   "source": [
    "dataset.append({\n",
    "    \"input_data\": {\"question\": \"Which city serves as the capital of Canada?\"},\n",
    "    \"expected_output\": \"Ottawa\",\n",
    "    \"metadata\": {\"difficulty\": \"easy\"}\n",
    "})\n",
    "\n",
    "dataset.as_dataframe()"
   ],
   "outputs": [],
   "execution_count": null
  },
  {
   "metadata": {},
   "cell_type": "markdown",
   "source": "Modifying a record in the dataset:"
  },
  {
   "metadata": {},
   "cell_type": "code",
   "source": [
    "dataset.update(1, {\n",
    "    \"input_data\": {\"question\": \"What's the capital city of Chad?\"},\n",
    "    \"expected_output\": \"N'Djamena\",\n",
    "    \"metadata\": {\"difficulty\": \"hard\"}\n",
    "})\n",
    "\n",
    "dataset.as_dataframe()"
   ],
   "outputs": [],
   "execution_count": null
  },
  {
   "metadata": {},
   "cell_type": "markdown",
   "source": "Deleting a record in the dataset:"
  },
  {
   "metadata": {},
   "cell_type": "code",
   "source": [
    "dataset.delete(0)\n",
    "\n",
    "dataset.as_dataframe()"
   ],
   "outputs": [],
   "execution_count": null
  },
  {
   "metadata": {},
   "cell_type": "markdown",
   "source": "Once you are done modifying your dataset, you can call `push()` to update the dataset in Datadog."
  },
  {
   "metadata": {},
   "cell_type": "code",
   "source": "dataset.push()",
   "outputs": [],
   "execution_count": null
  },
  {
   "metadata": {},
   "cell_type": "markdown",
   "source": "See the updated dataset in Datadog:"
  },
  {
   "metadata": {},
   "cell_type": "code",
   "source": "dataset.url",
   "outputs": [],
   "execution_count": null
  },
  {
   "cell_type": "markdown",
   "metadata": {},
   "source": [
    "# 4. Pulling an Existing Dataset\n",
    "To pull a dataset from Datadog, use the `pull()` method."
   ]
  },
  {
   "cell_type": "code",
   "metadata": {},
   "source": "pulled_dataset = LLMObs.pull_dataset(name=\"capitals-of-the-world\")",
   "outputs": [],
   "execution_count": null
  },
  {
   "cell_type": "code",
   "metadata": {},
   "source": "pulled_dataset.as_dataframe()",
   "outputs": [],
   "execution_count": null
  }
 ],
 "metadata": {
  "kernelspec": {
   "display_name": "venv",
   "language": "python",
   "name": "python3"
  },
  "language_info": {
   "codemirror_mode": {
    "name": "ipython",
    "version": 3
   },
   "file_extension": ".py",
   "mimetype": "text/x-python",
   "name": "python",
   "nbconvert_exporter": "python",
   "pygments_lexer": "ipython3",
   "version": "3.12.9"
  }
 },
 "nbformat": 4,
 "nbformat_minor": 2
}
